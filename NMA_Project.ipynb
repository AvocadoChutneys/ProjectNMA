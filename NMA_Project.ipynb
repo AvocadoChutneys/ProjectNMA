{
  "nbformat": 4,
  "nbformat_minor": 0,
  "metadata": {
    "colab": {
      "name": "NMA Project.ipynb",
      "provenance": []
    },
    "kernelspec": {
      "name": "python3",
      "display_name": "Python 3"
    }
  },
  "cells": [
    {
      "cell_type": "code",
      "metadata": {
        "id": "TjEmHhRqfpvH",
        "colab_type": "code",
        "cellView": "form",
        "colab": {
          "base_uri": "https://localhost:8080/",
          "height": 55
        },
        "outputId": "62de38f0-41b7-43d0-b076-eaf6bbb2f1a0"
      },
      "source": [
        "#@title Data retrieval and basic imports\n",
        "import os, requests\n",
        "import numpy as np\n",
        "import pandas as pd\n",
        "import matplotlib.pyplot as plt\n",
        "\n",
        "from matplotlib import rcParams \n",
        "rcParams['figure.figsize'] = [20, 4]\n",
        "rcParams['font.size'] =15\n",
        "rcParams['axes.spines.top'] = False\n",
        "rcParams['axes.spines.right'] = False\n",
        "rcParams['figure.autolayout'] = True\n",
        "\n",
        "fname = []\n",
        "for j in range(3):\n",
        "  fname.append('steinmetz_part%d.npz'%j)\n",
        "url = [\"https://osf.io/agvxh/download\"]\n",
        "url.append(\"https://osf.io/uv3mw/download\")\n",
        "url.append(\"https://osf.io/ehmw2/download\")\n",
        "\n",
        "for j in range(len(url)):\n",
        "  if not os.path.isfile(fname[j]):\n",
        "    try:\n",
        "      r = requests.get(url[j])\n",
        "    except requests.ConnectionError:\n",
        "      print(\"!!! Failed to download data !!!\")\n",
        "    else:\n",
        "      if r.status_code != requests.codes.ok:\n",
        "        print(\"!!! Failed to download data !!!\")\n",
        "      else:\n",
        "        with open(fname[j], \"wb\") as fid:\n",
        "          fid.write(r.content)\n",
        "\n",
        "\n",
        "\n",
        "alldat = np.array([])\n",
        "for j in range(len(fname)):\n",
        "  alldat = np.hstack((alldat, np.load('steinmetz_part%d.npz'%j, allow_pickle=True)['dat']))\n",
        "\n",
        "# select just one of the recordings here. 11 is nice because it has some neurons in vis ctx. \n",
        "dat = alldat[11]\n",
        "print(dat.keys())"
      ],
      "execution_count": null,
      "outputs": [
        {
          "output_type": "stream",
          "text": [
            "dict_keys(['spks', 'wheel', 'pupil', 'lfp', 'response', 'response_time', 'bin_size', 'stim_onset', 'contrast_right', 'contrast_left', 'brain_area', 'brain_area_lfp', 'feedback_time', 'feedback_type', 'gocue', 'mouse_name', 'date_exp', 'trough_to_peak', 'waveform_w', 'waveform_u', 'active_trials', 'contrast_left_passive', 'contrast_right_passive', 'spks_passive', 'lfp_passive', 'pupil_passive', 'wheel_passive'])\n"
          ],
          "name": "stdout"
        }
      ]
    },
    {
      "cell_type": "markdown",
      "metadata": {
        "id": "RiNu9cE6gFIA",
        "colab_type": "text"
      },
      "source": [
        "# Data description\n",
        "\n",
        "`alldat` contains 39 sessions from 10 mice, data from Steinmetz et al, 2019. Time bins for all measurements are 10ms, starting 500ms before stimulus onset. The mouse had to determine which side has the highest contrast. For each `dat = alldat[k]`, you have the following fields:\n",
        "\n",
        "* `dat['mouse_name']`: mouse name\n",
        "* `dat['date_exp']`: when a session was performed\n",
        "* `dat['spks']`: neurons by trials by time bins.    \n",
        "* `dat['brain_area']`: brain area for each neuron recorded. \n",
        "* `dat['contrast_right']`: contrast level for the right stimulus, which is always contralateral to the recorded brain areas.\n",
        "* `dat['contrast_left']`: contrast level for left stimulus. \n",
        "* `dat['gocue']`: when the go cue sound was played. \n",
        "* `dat['response_times']`: when the response was registered, which has to be after the go cue. The mouse can turn the wheel before the go cue (and nearly always does!), but the stimulus on the screen won't move before the go cue.  \n",
        "* `dat['response']`: which side the response was (`-1`, `0`, `1`). When the right-side stimulus had higher contrast, the correct choice was `-1`. `0` is a no go response. \n",
        "* `dat['feedback_time']`: when feedback was provided. \n",
        "* `dat['feedback_type']`: if the feedback was positive (`+1`, reward) or negative (`-1`, white noise burst).  \n",
        "* `dat['wheel']`: exact position of the wheel that the mice uses to make a response, binned at `10ms`. \n",
        "* `dat['pupil']`: pupil area  (noisy, because pupil is very small) + pupil horizontal and vertical position. \n",
        "* `dat['lfp']`: recording of the local field potential in each brain area from this experiment, binned at `10ms`.\n",
        "* `dat['brain_area_lfp']`: brain area names for the LFP channels. \n",
        "* `dat['trough_to_peak']`: measures the width of the action potential waveform for each neuron. Widths `<=10` samples are \"putative fast spiking neurons\". \n",
        "* `dat['waveform_w']`: temporal components of spike waveforms. `w@u` reconstructs the time by channels action potential shape. \n",
        "* `dat['waveform_u]`: spatial components of spike waveforms.\n",
        "* `dat['%X%_passive']`: same as above for `X` = {`spks`, `lfp`, `pupil`, `wheel`, `contrast_left`, `contrast_right`} but for  passive trials at the end of the recording when the mouse was no longer engaged and stopped making responses. "
      ]
    },
    {
      "cell_type": "markdown",
      "metadata": {
        "id": "iIR_ACwj82AW",
        "colab_type": "text"
      },
      "source": [
        "# Spike Labeling\n",
        "\n",
        "* We are doing spike labeling based on: [(Loren M. Frank, Emery N. Brown, and Matthew A. Wilson, 2001)](https://journals.physiology.org/doi/full/10.1152/jn.2001.86.4.2029) in which putativa excitatory neurons (PE) had >0.4 trough to peak time $ms$ and <16 $Hz$ mean firing rate, in the other hand putative inhibitory neurons had <0.4 trough to peak time and >16 $Hz$ mean firing rate.\n",
        "\n"
      ]
    },
    {
      "cell_type": "code",
      "metadata": {
        "id": "8aXC_Wsql1Kf",
        "colab_type": "code",
        "colab": {
          "base_uri": "https://localhost:8080/",
          "height": 247
        },
        "outputId": "bb564fcc-5568-41a6-e78d-8bf683c10ec5"
      },
      "source": [
        "dt_waveforms = 1/30000 # dt of waveform\n",
        "binsize = dat['bin_size'] # bin times spikes\n",
        "mean_firing = dat['spks'].mean(axis = (1,2)) * 1/binsize # computing mean firing rate\n",
        "t_t_peak = dat['trough_to_peak'] * dt_waveforms * 1e3 # computing trough to peak time in ms\n",
        "plt.scatter(mean_firing,t_t_peak)\n",
        "plt.axhline(y=0.4,ls = '--', alpha = 0.5, c = 'r')\n",
        "plt.axvline(x=5,ls = '--', alpha = 0.5, c = 'r')\n",
        "plt.ylabel('Trough to peak ($ms$)')\n",
        "plt.xlabel('Mean Firing Rate (Hz)')\n"
      ],
      "execution_count": null,
      "outputs": [
        {
          "output_type": "execute_result",
          "data": {
            "text/plain": [
              "Text(0.5, 0, 'Mean Firing Rate (Hz)')"
            ]
          },
          "metadata": {
            "tags": []
          },
          "execution_count": 85
        },
        {
          "output_type": "display_data",
          "data": {
            "image/png": "[encoded data removed]",
            "text/plain": [
              "<Figure size 1440x288 with 1 Axes>"
            ]
          },
          "metadata": {
            "tags": [],
            "needs_background": "light"
          }
        }
      ]
    },
    {
      "cell_type": "markdown",
      "metadata": {
        "id": "uQG-B1UK-Ze1",
        "colab_type": "text"
      },
      "source": [
        "Next, we create a dataframe, and construct a column replacing brain regions per its area:"
      ]
    },
    {
      "cell_type": "code",
      "metadata": {
        "id": "54rsi-1hpX7f",
        "colab_type": "code",
        "colab": {}
      },
      "source": [
        "labeling_df = pd.DataFrame({\n",
        "    \"Mean Firing Rate\": mean_firing,\n",
        "    \"Trough to peak\": t_t_peak,\n",
        "    \"Region\": dat['brain_area'],\n",
        "    \"Area\":dat['brain_area']\n",
        "})\n",
        "labeling_df.replace(\n",
        "    {\n",
        "        \"Area\": {\"CA1\":\"Hippocampus\",\"DG\":\"Hippocampus\",\"SUB\":\"Hippocampus\",\n",
        "        \"VISp\": \"Visual Ctx\", \"VISam\":\"Visual Ctx\",\"MD\":\"Thalamus\",\"LGd\":\"Thalamus\", \"LH\":\"Thalamus\",\n",
        "        \"PL\":\"Other Ctx\",\"MOs\":\"Other Ctx\",\"ACA\":\"Other Ctx\"\n",
        "        }\n",
        "    }, inplace = True\n",
        ")"
      ],
      "execution_count": null,
      "outputs": []
    },
    {
      "cell_type": "markdown",
      "metadata": {
        "id": "tHRmyFyC-qtm",
        "colab_type": "text"
      },
      "source": [
        "Labeling according to conditions:\n",
        "\n",
        "* Default condition is *other*"
      ]
    },
    {
      "cell_type": "code",
      "metadata": {
        "id": "O7YKXHc6-wLr",
        "colab_type": "code",
        "colab": {}
      },
      "source": [
        "labeling_df['Cell Type'] = \"Other\"\n",
        "labeling_df.loc[(labeling_df['Mean Firing Rate']<5)&(labeling_df['Trough to peak']>0.4),'Cell Type'] = \"Excitatory\"\n",
        "labeling_df.loc[(labeling_df['Mean Firing Rate']>5)&(labeling_df['Trough to peak']<0.4), 'Cell Type'] = \"Inhibitory\""
      ],
      "execution_count": null,
      "outputs": []
    },
    {
      "cell_type": "code",
      "metadata": {
        "id": "q9ZsAQ486MAb",
        "colab_type": "code",
        "colab": {
          "base_uri": "https://localhost:8080/",
          "height": 198
        },
        "outputId": "05313263-722a-406e-f529-e565a26ac97a"
      },
      "source": [
        "labeling_df.head()"
      ],
      "execution_count": null,
      "outputs": [
        {
          "output_type": "execute_result",
          "data": {
            "text/html": [
              "<div>\n",
              "<style scoped>\n",
              "    .dataframe tbody tr th:only-of-type {\n",
              "        vertical-align: middle;\n",
              "    }\n",
              "\n",
              "    .dataframe tbody tr th {\n",
              "        vertical-align: top;\n",
              "    }\n",
              "\n",
              "    .dataframe thead th {\n",
              "        text-align: right;\n",
              "    }\n",
              "</style>\n",
              "<table border=\"1\" class=\"dataframe\">\n",
              "  <thead>\n",
              "    <tr style=\"text-align: right;\">\n",
              "      <th></th>\n",
              "      <th>Mean Firing Rate</th>\n",
              "      <th>Trough to peak</th>\n",
              "      <th>Region</th>\n",
              "      <th>Area</th>\n",
              "      <th>Cell Type</th>\n",
              "    </tr>\n",
              "  </thead>\n",
              "  <tbody>\n",
              "    <tr>\n",
              "      <th>0</th>\n",
              "      <td>0.731765</td>\n",
              "      <td>0.800000</td>\n",
              "      <td>VISp</td>\n",
              "      <td>Visual Ctx</td>\n",
              "      <td>Excitatory</td>\n",
              "    </tr>\n",
              "    <tr>\n",
              "      <th>1</th>\n",
              "      <td>0.237647</td>\n",
              "      <td>0.666667</td>\n",
              "      <td>VISp</td>\n",
              "      <td>Visual Ctx</td>\n",
              "      <td>Excitatory</td>\n",
              "    </tr>\n",
              "    <tr>\n",
              "      <th>2</th>\n",
              "      <td>5.368235</td>\n",
              "      <td>0.766667</td>\n",
              "      <td>VISp</td>\n",
              "      <td>Visual Ctx</td>\n",
              "      <td>Other</td>\n",
              "    </tr>\n",
              "    <tr>\n",
              "      <th>3</th>\n",
              "      <td>0.190588</td>\n",
              "      <td>0.566667</td>\n",
              "      <td>DG</td>\n",
              "      <td>Hippocampus</td>\n",
              "      <td>Excitatory</td>\n",
              "    </tr>\n",
              "    <tr>\n",
              "      <th>4</th>\n",
              "      <td>1.356471</td>\n",
              "      <td>0.633333</td>\n",
              "      <td>VISp</td>\n",
              "      <td>Visual Ctx</td>\n",
              "      <td>Excitatory</td>\n",
              "    </tr>\n",
              "  </tbody>\n",
              "</table>\n",
              "</div>"
            ],
            "text/plain": [
              "   Mean Firing Rate  Trough to peak Region         Area   Cell Type\n",
              "0          0.731765        0.800000   VISp   Visual Ctx  Excitatory\n",
              "1          0.237647        0.666667   VISp   Visual Ctx  Excitatory\n",
              "2          5.368235        0.766667   VISp   Visual Ctx       Other\n",
              "3          0.190588        0.566667     DG  Hippocampus  Excitatory\n",
              "4          1.356471        0.633333   VISp   Visual Ctx  Excitatory"
            ]
          },
          "metadata": {
            "tags": []
          },
          "execution_count": 88
        }
      ]
    },
    {
      "cell_type": "code",
      "metadata": {
        "id": "jVqUlQjhxmpm",
        "colab_type": "code",
        "colab": {
          "base_uri": "https://localhost:8080/",
          "height": 542
        },
        "outputId": "735a7593-354d-4015-d05c-bb06db7b3e2f"
      },
      "source": [
        "import plotly.express as px\n",
        "\n",
        "px.scatter(x=\"Mean Firing Rate\", y =\"Trough to peak\", color = \"Cell Type\", data_frame = labeling_df)"
      ],
      "execution_count": null,
      "outputs": [
        {
          "output_type": "display_data",
          "data": {
            "text/html": [
              "<html>\n",
              "<head><meta charset=\"utf-8\" /></head>\n",
              "<body>\n",
              "    <div>\n",
              "            <script src=\"https://cdnjs.cloudflare.com/ajax/libs/mathjax/2.7.5/MathJax.js?config=TeX-AMS-MML_SVG\"></script><script type=\"text/javascript\">if (window.MathJax) {MathJax.Hub.Config({SVG: {font: \"STIX-Web\"}});}</script>\n",
              "                <script type=\"text/javascript\">window.PlotlyConfig = {MathJaxConfig: 'local'};</script>\n",
              "        <script src=\"https://cdn.plot.ly/plotly-latest.min.js\"></script>    \n",
              "            <div id=\"b58eea1a-f83b-4f16-addc-f8a15ca9447c\" class=\"plotly-graph-div\" style=\"height:525px; width:100%;\"></div>\n",
              "            <script type=\"text/javascript\">\n",
              "                \n",
              "                    window.PLOTLYENV=window.PLOTLYENV || {};\n",
              "                    \n",
              "                if (document.getElementById(\"b58eea1a-f83b-4f16-addc-f8a15ca9447c\")) {\n",
              "                    Plotly.newPlot(\n",
              "                        'b58eea1a-f83b-4f16-addc-f8a15ca9447c',\n",
              "                        [{\"hoverlabel\": {\"namelength\": 0}, \"hovertemplate\": \"Cell Type=Excitatory<br>Mean Firing Rate=%{x}<br>Trough to peak=%{y}\", \"legendgroup\": \"Cell Type=Excitatory\", \"marker\": {\"color\": \"#636efa\", \"symbol\": \"circle\"}, \"mode\": \"markers\", \"name\": \"Cell Type=Excitatory\", \"showlegend\": true, \"type\": \"scatter\", \"x\": [0.7317647058823529, 0.2376470588235294, 0.19058823529411764, 1.356470588235294, 0.0, 0.1411764705882353, 2.327058823529412, 0.030588235294117645, 0.04823529411764706, 0.24588235294117647, 0.14588235294117646, 1.2223529411764706, 0.2058823529411765, 0.4447058823529412, 0.1952941176470588, 2.901176470588235, 0.7752941176470588, 0.4717647058823529, 0.051764705882352935, 0.30235294117647055, 0.3764705882352941, 0.2505882352941176, 1.1976470588235293, 0.12117647058823529, 0.9858823529411765, 1.923529411764706, 0.2670588235294118, 0.45294117647058824, 0.03294117647058824, 0.011764705882352941, 0.46941176470588236, 0.5294117647058824, 0.08823529411764706, 1.871764705882353, 0.14352941176470588, 0.16, 1.0682352941176472, 0.12470588235294118, 0.42823529411764705, 2.2894117647058825, 3.1870588235294117, 0.07764705882352942, 0.31176470588235294, 0.19294117647058823, 0.2647058823529412, 0.5952941176470588, 0.26823529411764707, 0.08941176470588236, 0.030588235294117645, 0.04, 0.10705882352941176, 1.68, 2.3752941176470586, 0.22470588235294117, 0.007058823529411764, 3.6094117647058823, 0.1776470588235294, 0.32941176470588235, 0.7670588235294117, 4.897647058823529, 0.30470588235294116, 1.0623529411764705, 0.13294117647058823, 0.17176470588235293, 0.28941176470588237, 0.09529411764705882, 1.6105882352941179, 1.1223529411764706, 1.9258823529411766, 0.29411764705882354, 2.4505882352941177, 0.08, 0.9482352941176471, 0.38, 2.0258823529411765, 2.7094117647058824, 3.0658823529411765, 0.1188235294117647, 1.7176470588235293, 0.8647058823529412, 0.14941176470588236, 0.3552941176470588, 2.6705882352941175, 0.5058823529411764, 0.4211764705882353, 0.5411764705882353, 4.169411764705883, 0.12117647058823529, 1.8729411764705883, 1.9835294117647058, 1.516470588235294, 0.06941176470588235, 0.17647058823529413, 0.40470588235294114, 0.5423529411764706, 0.45294117647058824, 1.8141176470588236, 0.05647058823529411, 0.9717647058823529, 3.4247058823529413, 0.06235294117647059, 1.7505882352941176, 0.12705882352941178, 1.0776470588235294, 0.5294117647058824, 0.8211764705882352, 4.696470588235294, 0.11294117647058823, 0.06941176470588235, 0.45999999999999996, 3.6999999999999997, 1.0941176470588234, 0.49058823529411766, 0.0011764705882352942, 0.047058823529411764, 0.4764705882352941, 2.7352941176470584, 4.343529411764706, 0.3411764705882353, 3.955294117647059, 4.615294117647059, 2.695294117647059, 0.37764705882352945, 2.6047058823529414, 4.687058823529411, 2.4635294117647057, 2.5388235294117645, 3.844705882352941, 4.476470588235294, 4.503529411764706, 2.1223529411764708, 1.9176470588235295, 1.2129411764705882, 3.4505882352941177, 2.192941176470588, 1.9694117647058824, 1.2317647058823529, 1.3717647058823528, 4.472941176470589, 1.8823529411764703, 0.9329411764705883, 0.32, 0.9129411764705883, 0.03411764705882353, 0.5858823529411764, 1.051764705882353, 1.0694117647058823, 1.3388235294117647, 0.5235294117647058, 2.0105882352941173, 0.3411764705882353, 0.06705882352941177, 1.2729411764705882, 0.3482352941176471, 0.6576470588235294, 3.965882352941177, 0.12470588235294118, 0.009411764705882354, 0.047058823529411764, 4.5447058823529405, 0.20941176470588235, 0.06235294117647059, 0.06705882352941177, 0.12235294117647058, 0.16, 0.1976470588235294, 0.09411764705882353, 0.037647058823529415, 0.4129411764705882, 1.0294117647058822, 0.05294117647058823, 0.014117647058823528, 0.21058823529411766, 2.7588235294117647, 0.04, 4.050588235294118, 0.7894117647058824, 0.04823529411764706, 1.1047058823529412, 1.22, 0.9341176470588235, 0.8494117647058824, 0.16117647058823528, 0.58, 0.14588235294117646, 4.435294117647059, 0.808235294117647, 1.5129411764705882, 0.18705882352941175, 1.4411764705882353, 0.031764705882352945, 1.3482352941176472, 0.5670588235294117, 0.3, 0.21294117647058822, 0.4352941176470588, 0.30823529411764705, 0.0811764705882353, 0.4894117647058823, 2.7188235294117646, 0.4294117647058823, 0.30235294117647055, 0.08352941176470588, 0.3388235294117647, 0.1588235294117647, 0.22588235294117645, 2.568235294117647, 0.06470588235294118, 0.20235294117647057, 1.96, 0.11058823529411764, 0.0988235294117647, 0.3517647058823529, 0.7835294117647058, 0.31176470588235294, 0.32588235294117646, 0.24823529411764705, 1.2152941176470589, 0.52, 3.1776470588235295, 0.64, 0.041176470588235294, 0.09058823529411765, 0.06117647058823529, 1.0058823529411764, 2.2505882352941176, 0.22470588235294117, 0.036470588235294116, 0.0811764705882353, 0.4705882352941176, 0.05294117647058823, 0.21529411764705883, 0.7364705882352941, 1.448235294117647, 0.02705882352941176, 0.10117647058823528, 3.024705882352941, 0.06470588235294118, 0.8682352941176471, 0.02705882352941176, 2.3094117647058825, 0.6752941176470588, 0.8105882352941176, 0.9988235294117647, 2.215294117647059, 0.12941176470588237, 0.40470588235294114, 0.52, 1.7917647058823527, 0.7776470588235295, 0.6164705882352941, 0.05058823529411764, 0.12470588235294118, 1.8623529411764705, 1.4588235294117646, 0.15058823529411766, 0.03411764705882353, 0.014117647058823528, 0.07058823529411765, 0.07176470588235294, 0.4458823529411765, 0.12235294117647058, 1.0670588235294116, 0.1564705882352941, 0.45647058823529413, 0.3976470588235294, 2.788235294117647, 0.18705882352941175, 0.24705882352941175, 1.6058823529411763, 0.37529411764705883, 0.7435294117647059, 0.041176470588235294, 0.8694117647058824, 3.104705882352941, 3.176470588235294, 2.981176470588235, 3.4105882352941173, 1.403529411764706, 2.1294117647058823, 4.2694117647058825, 1.641176470588235, 0.36470588235294116, 1.6423529411764703, 1.383529411764706, 0.8058823529411764, 1.6929411764705884, 2.0270588235294116, 2.9035294117647057, 0.6470588235294118, 1.2894117647058823, 3.38235294117647, 2.496470588235294, 1.1176470588235294, 1.647058823529412, 1.775294117647059, 1.3976470588235292, 4.549411764705883, 0.4976470588235294, 1.2423529411764707, 0.5094117647058823, 2.2023529411764704, 1.0294117647058822, 0.7917647058823529, 0.7011764705882353, 0.2788235294117647, 0.4294117647058823, 0.04941176470588235, 0.7564705882352941, 0.4, 2.6576470588235295, 1.643529411764706, 0.5270588235294118, 0.3364705882352941, 0.13647058823529412, 0.025882352941176467, 3.752941176470588, 0.07176470588235294, 0.5541176470588235, 0.24941176470588236, 0.021176470588235293, 0.18470588235294116, 3.74235294117647, 0.45294117647058824, 0.3235294117647059, 0.14588235294117646, 0.09176470588235294, 0.09058823529411765, 0.24941176470588236, 1.18, 1.7682352941176471, 0.29411764705882354, 2.192941176470588, 0.5141176470588235, 1.936470588235294, 0.988235294117647, 0.4505882352941176, 0.40352941176470586, 1.1976470588235293, 1.6776470588235295, 0.09294117647058824, 2.26, 0.2188235294117647, 3.7764705882352945, 0.37529411764705883, 0.047058823529411764, 2.268235294117647, 2.5023529411764702, 0.08470588235294117, 0.1623529411764706, 0.7247058823529412, 1.5658823529411763, 0.1952941176470588, 1.4952941176470589, 2.875294117647059, 0.7364705882352941, 0.08, 0.10352941176470587, 0.6752941176470588, 0.5105882352941176, 0.4541176470588235, 0.5588235294117647, 0.08705882352941177, 4.370588235294118, 0.8164705882352942, 3.271764705882353, 0.20470588235294118, 0.676470588235294, 0.18705882352941175, 3.8600000000000003, 0.04823529411764706, 0.388235294117647, 4.392941176470588, 4.465882352941176, 0.2388235294117647, 3.901176470588235, 0.1, 2.5917647058823525, 0.26588235294117646, 0.3011764705882353, 0.8011764705882354, 0.5341176470588236, 0.4447058823529412, 1.7705882352941176, 0.15764705882352942, 0.5964705882352941, 0.5270588235294118, 0.8576470588235294, 0.037647058823529415, 0.8776470588235293, 2.155294117647059, 4.330588235294117, 0.28352941176470586, 0.5011764705882352, 0.40588235294117647, 4.7, 0.02941176470588235, 4.18235294117647, 3.375294117647059, 4.747058823529412, 0.02941176470588235, 1.0988235294117648, 0.6811764705882353, 0.4164705882352941, 4.155294117647059, 0.025882352941176467, 0.15529411764705883, 0.6011764705882353, 1.331764705882353, 1.6894117647058824, 0.5670588235294117, 2.7741176470588234, 0.09176470588235294, 0.828235294117647, 0.45647058823529413, 1.2694117647058822, 0.31058823529411766, 1.8705882352941177, 0.11411764705882353, 0.05999999999999999, 0.1376470588235294, 0.04470588235294118, 0.15176470588235294, 1.923529411764706, 0.19647058823529412, 2.061176470588235, 2.7505882352941176, 0.37176470588235294, 0.05058823529411764, 0.09294117647058824, 0.06470588235294118, 2.7270588235294118, 2.847058823529412, 2.7952941176470585, 1.9423529411764706, 0.1176470588235294, 1.2529411764705882, 0.31176470588235294, 2.9211764705882355, 0.2352941176470588, 2.9341176470588235, 1.308235294117647, 1.372941176470588, 0.34352941176470586, 1.0023529411764704, 1.8788235294117648, 0.32941176470588235, 1.1199999999999999, 0.1976470588235294, 0.23411764705882354, 0.16, 0.5635294117647058, 0.009411764705882354, 0.22588235294117645, 1.8635294117647059, 2.556470588235294, 4.668235294117647, 2.0294117647058822, 2.2788235294117647, 4.938823529411765, 2.2752941176470585, 2.4423529411764706, 0.9905882352941175, 3.336470588235294, 2.5258823529411765, 4.396470588235294, 4.294117647058823, 2.4635294117647057, 4.647058823529411, 3.036470588235294, 1.6847058823529413, 0.5811764705882353, 1.1070588235294117, 4.723529411764705, 3.754117647058824, 4.462352941176471, 2.0505882352941174, 1.4529411764705882, 0.9976470588235294, 1.0847058823529412, 2.7705882352941176, 0.8529411764705882, 0.35294117647058826, 0.5011764705882352, 0.01647058823529412, 0.06470588235294118, 0.06470588235294118], \"xaxis\": \"x\", \"y\": [0.8, 0.6666666666666667, 0.5666666666666667, 0.6333333333333334, 0.7333333333333334, 0.6000000000000001, 0.7333333333333334, 0.6333333333333334, 0.5666666666666667, 0.5666666666666667, 0.6333333333333334, 0.5666666666666667, 0.4666666666666667, 0.5666666666666667, 0.6333333333333334, 0.6000000000000001, 0.7666666666666667, 0.6333333333333334, 0.6000000000000001, 0.8333333333333334, 0.7, 0.7333333333333334, 0.43333333333333335, 0.5, 0.6333333333333334, 0.6000000000000001, 0.5666666666666667, 0.4666666666666667, 0.6666666666666667, 0.5666666666666667, 0.7, 0.8, 0.6666666666666667, 0.5666666666666667, 0.5333333333333333, 0.5, 0.5666666666666667, 0.6000000000000001, 0.6000000000000001, 0.6000000000000001, 0.8333333333333334, 0.4666666666666667, 0.6333333333333334, 0.6000000000000001, 0.6000000000000001, 0.5333333333333333, 0.5, 0.5666666666666667, 0.7666666666666667, 0.5666666666666667, 0.43333333333333335, 0.4666666666666667, 0.5666666666666667, 0.5, 0.8, 0.5, 0.6666666666666667, 0.5666666666666667, 0.6000000000000001, 0.5333333333333333, 0.4666666666666667, 0.5666666666666667, 0.6666666666666667, 0.6000000000000001, 0.9000000000000001, 0.5333333333333333, 0.5666666666666667, 0.6333333333333334, 0.6333333333333334, 0.5333333333333333, 0.6000000000000001, 0.5333333333333333, 0.6000000000000001, 0.43333333333333335, 0.8, 0.6000000000000001, 0.6333333333333334, 0.6000000000000001, 0.6333333333333334, 0.6333333333333334, 0.5, 0.6000000000000001, 0.5666666666666667, 0.5, 0.5333333333333333, 0.5666666666666667, 0.5333333333333333, 0.6666666666666667, 0.4666666666666667, 0.6333333333333334, 0.8333333333333334, 0.6666666666666667, 0.6333333333333334, 0.6666666666666667, 0.5, 0.6000000000000001, 0.5666666666666667, 0.6666666666666667, 0.5333333333333333, 0.6000000000000001, 0.7, 0.5666666666666667, 0.5666666666666667, 0.5666666666666667, 0.6000000000000001, 0.5333333333333333, 0.5, 0.6000000000000001, 0.4666666666666667, 0.6333333333333334, 0.5666666666666667, 0.6000000000000001, 0.6000000000000001, 0.8, 0.43333333333333335, 0.6000000000000001, 0.5666666666666667, 0.5666666666666667, 0.5, 0.5333333333333333, 0.5, 0.6333333333333334, 0.6333333333333334, 0.6333333333333334, 0.7333333333333334, 0.5333333333333333, 0.6333333333333334, 0.6000000000000001, 0.5666666666666667, 0.5333333333333333, 0.6000000000000001, 0.6000000000000001, 0.5666666666666667, 0.8, 0.43333333333333335, 0.6666666666666667, 0.43333333333333335, 0.6666666666666667, 0.6333333333333334, 0.6333333333333334, 0.6000000000000001, 0.8333333333333334, 0.5666666666666667, 0.5666666666666667, 0.6333333333333334, 0.7, 0.6000000000000001, 0.6666666666666667, 0.6000000000000001, 0.5666666666666667, 0.6000000000000001, 0.5, 0.5, 0.5333333333333333, 0.5333333333333333, 0.8333333333333334, 0.5666666666666667, 0.6666666666666667, 0.4666666666666667, 0.5666666666666667, 0.7333333333333334, 0.4666666666666667, 0.7666666666666667, 0.6333333333333334, 0.7666666666666667, 0.6000000000000001, 0.8, 0.5666666666666667, 0.7, 0.4666666666666667, 0.6333333333333334, 0.6333333333333334, 0.8, 0.4666666666666667, 0.5, 0.5666666666666667, 0.6333333333333334, 0.4666666666666667, 0.7333333333333334, 0.5, 0.7666666666666667, 0.5666666666666667, 0.5666666666666667, 0.7666666666666667, 0.6000000000000001, 0.6000000000000001, 0.6000000000000001, 0.43333333333333335, 0.5666666666666667, 0.6000000000000001, 0.7, 0.6000000000000001, 0.5333333333333333, 0.5666666666666667, 0.8666666666666667, 0.4666666666666667, 0.7, 0.8, 0.7666666666666667, 0.6666666666666667, 0.7, 0.8, 0.7333333333333334, 0.6666666666666667, 0.7333333333333334, 0.9666666666666667, 0.6666666666666667, 0.4666666666666667, 0.7666666666666667, 0.9333333333333333, 0.4666666666666667, 0.5, 0.5666666666666667, 0.5, 0.43333333333333335, 0.5666666666666667, 0.7666666666666667, 0.6000000000000001, 0.5666666666666667, 0.43333333333333335, 0.4666666666666667, 0.5666666666666667, 0.6666666666666667, 0.43333333333333335, 0.5666666666666667, 0.6000000000000001, 0.8, 0.4666666666666667, 0.5, 0.8, 0.7666666666666667, 0.43333333333333335, 0.6333333333333334, 0.7, 0.7, 0.7333333333333334, 0.6333333333333334, 0.4666666666666667, 0.6000000000000001, 0.7333333333333334, 0.6000000000000001, 0.43333333333333335, 0.43333333333333335, 0.5333333333333333, 0.5666666666666667, 0.43333333333333335, 0.6333333333333334, 0.6000000000000001, 0.9000000000000001, 0.9666666666666667, 0.6666666666666667, 0.43333333333333335, 0.43333333333333335, 0.4666666666666667, 0.5333333333333333, 0.43333333333333335, 0.4666666666666667, 0.7666666666666667, 0.43333333333333335, 0.43333333333333335, 0.43333333333333335, 0.43333333333333335, 0.6000000000000001, 0.43333333333333335, 0.5666666666666667, 0.8333333333333334, 0.6000000000000001, 0.43333333333333335, 0.43333333333333335, 0.7, 0.4666666666666667, 0.5333333333333333, 0.43333333333333335, 0.7666666666666667, 0.6666666666666667, 0.5666666666666667, 0.5, 0.6000000000000001, 0.6000000000000001, 0.4666666666666667, 0.4666666666666667, 0.5666666666666667, 0.5, 0.6333333333333334, 0.5, 0.6000000000000001, 0.5, 0.7, 0.6333333333333334, 0.9333333333333333, 0.7666666666666667, 0.5333333333333333, 0.8333333333333334, 0.43333333333333335, 0.6666666666666667, 0.7, 0.8, 0.6000000000000001, 0.8666666666666667, 0.43333333333333335, 0.7, 0.6666666666666667, 0.4666666666666667, 0.7666666666666667, 0.43333333333333335, 0.6666666666666667, 0.8333333333333334, 0.8666666666666667, 0.4666666666666667, 0.7333333333333334, 0.8, 0.7, 0.8666666666666667, 0.43333333333333335, 0.6666666666666667, 0.43333333333333335, 0.6000000000000001, 0.43333333333333335, 0.6666666666666667, 0.4666666666666667, 0.5, 0.5, 0.7333333333333334, 0.7333333333333334, 0.6333333333333334, 0.7333333333333334, 0.5666666666666667, 0.4666666666666667, 0.5, 0.5, 0.6000000000000001, 0.6000000000000001, 0.7666666666666667, 0.6333333333333334, 0.43333333333333335, 0.6333333333333334, 0.7666666666666667, 0.6000000000000001, 0.5666666666666667, 0.5666666666666667, 0.5333333333333333, 0.7333333333333334, 0.5333333333333333, 0.6666666666666667, 0.5333333333333333, 0.5666666666666667, 0.9666666666666667, 0.6666666666666667, 0.5333333333333333, 0.6666666666666667, 0.7333333333333334, 0.6333333333333334, 0.5333333333333333, 0.5333333333333333, 0.4666666666666667, 0.6666666666666667, 0.4666666666666667, 0.8333333333333334, 0.5333333333333333, 0.43333333333333335, 0.6000000000000001, 0.5666666666666667, 0.8333333333333334, 0.5666666666666667, 0.7, 0.5666666666666667, 0.7, 0.5, 0.5333333333333333, 0.5, 0.7666666666666667, 0.6333333333333334, 0.5666666666666667, 0.5, 0.6666666666666667, 0.6333333333333334, 0.5, 0.5666666666666667, 0.7, 0.8666666666666667, 0.43333333333333335, 0.5333333333333333, 0.7, 0.9000000000000001, 0.5333333333333333, 0.9333333333333333, 0.5, 0.6333333333333334, 0.7, 0.5666666666666667, 0.6000000000000001, 0.6666666666666667, 0.8, 0.8333333333333334, 0.7666666666666667, 0.6666666666666667, 0.6666666666666667, 1.1333333333333333, 0.6333333333333334, 0.5666666666666667, 0.43333333333333335, 0.4666666666666667, 0.6000000000000001, 0.6666666666666667, 0.5333333333333333, 0.9000000000000001, 0.7, 0.6666666666666667, 0.6000000000000001, 0.5666666666666667, 0.4666666666666667, 0.5666666666666667, 0.9666666666666667, 0.4666666666666667, 0.6333333333333334, 0.7333333333333334, 0.5333333333333333, 0.5666666666666667, 0.43333333333333335, 0.6000000000000001, 0.6666666666666667, 0.8333333333333334, 0.7, 0.5333333333333333, 0.5333333333333333, 0.43333333333333335, 0.5333333333333333, 0.6000000000000001, 0.8333333333333334, 0.7333333333333334, 0.7333333333333334, 0.6000000000000001, 0.7333333333333334, 1.1, 0.5666666666666667, 0.5, 0.5, 0.6666666666666667, 1.1333333333333333, 0.5, 0.6000000000000001, 0.6333333333333334, 0.5, 0.5666666666666667, 0.4666666666666667, 0.8333333333333334, 0.7333333333333334, 0.7666666666666667, 0.43333333333333335, 0.9333333333333333, 0.5, 0.5, 0.43333333333333335, 0.6666666666666667, 0.5666666666666667, 0.6000000000000001, 0.6000000000000001, 0.5333333333333333, 0.5666666666666667, 0.5, 1.0333333333333334, 0.9333333333333333, 0.6666666666666667, 0.4666666666666667, 0.9666666666666667, 0.7333333333333334, 0.6333333333333334, 0.5666666666666667, 1.0666666666666667, 0.5666666666666667, 0.5, 0.7, 0.7333333333333334, 0.4666666666666667, 0.8, 1.0, 0.6333333333333334, 0.7666666666666667, 0.6666666666666667, 0.5666666666666667, 0.6666666666666667, 0.5, 0.9000000000000001, 0.5666666666666667, 0.6666666666666667, 0.6666666666666667, 0.6666666666666667], \"yaxis\": \"y\"}, {\"hoverlabel\": {\"namelength\": 0}, \"hovertemplate\": \"Cell Type=Other<br>Mean Firing Rate=%{x}<br>Trough to peak=%{y}\", \"legendgroup\": \"Cell Type=Other\", \"marker\": {\"color\": \"#EF553B\", \"symbol\": \"circle\"}, \"mode\": \"markers\", \"name\": \"Cell Type=Other\", \"showlegend\": true, \"type\": \"scatter\", \"x\": [5.368235294117647, 0.7988235294117646, 0.12470588235294118, 0.37529411764705883, 7.247058823529412, 6.443529411764706, 0.611764705882353, 0.2929411764705882, 0.18235294117647058, 2.96, 5.565882352941177, 1.4588235294117646, 6.461176470588235, 0.1376470588235294, 3.9258823529411764, 5.108235294117646, 0.36941176470588233, 2.9023529411764706, 4.725882352941176, 1.3494117647058823, 0.11529411764705881, 0.6258823529411764, 0.24941176470588236, 14.302352941176471, 12.769411764705882, 9.905882352941177, 8.568235294117647, 16.76470588235294, 13.848235294117647, 6.944705882352942, 9.556470588235294, 17.38941176470588, 16.676470588235293, 9.869411764705882, 13.292941176470588, 10.08, 7.589411764705882, 11.565882352941175, 7.448235294117647, 8.698823529411765, 9.163529411764706, 8.809411764705882, 1.5623529411764705, 7.415294117647059, 2.783529411764706, 5.449411764705882, 21.47529411764706, 5.214117647058823, 2.6070588235294117, 5.149411764705882, 13.812941176470588, 9.583529411764706, 7.050588235294118, 0.8729411764705883, 0.20352941176470588, 4.007058823529412, 5.5329411764705885, 0.43294117647058816, 1.035294117647059, 1.411764705882353, 0.48588235294117643, 8.72, 12.92470588235294, 9.610588235294118, 16.589411764705883, 6.895294117647059, 7.58, 7.0717647058823525, 5.08235294117647, 12.805882352941175, 6.6117647058823525, 1.6905882352941177, 1.0176470588235293, 0.7364705882352941, 5.5058823529411764, 5.3223529411764705, 12.442352941176472, 6.370588235294118, 4.008235294117647, 11.523529411764706, 10.349411764705883, 2.4270588235294115, 6.915294117647059, 2.576470588235294, 10.405882352941175, 6.805882352941177, 0.40470588235294114, 14.523529411764704, 2.0258823529411765, 11.397647058823528, 5.077647058823529, 3.348235294117647, 8.130588235294118, 9.370588235294118, 8.590588235294117, 6.208235294117647, 8.889411764705882, 7.350588235294117, 4.952941176470588, 13.367058823529412, 8.0, 5.972941176470588, 0.8741176470588234, 5.325882352941177, 5.91764705882353, 11.238823529411764, 0.4152941176470588, 5.101176470588236, 5.555294117647059, 13.700000000000001, 0.5470588235294117, 11.08, 7.725882352941177, 6.2435294117647056, 5.5847058823529405, 1.9129411764705881, 22.897647058823527, 12.611764705882353, 26.32235294117647, 19.58823529411765, 4.315294117647059, 22.439999999999998, 13.242352941176472, 25.130588235294116, 18.576470588235296, 11.455294117647059, 13.744705882352942, 30.85176470588235, 11.838823529411764, 41.36, 10.410588235294117, 16.55529411764706, 21.609411764705882, 15.792941176470586, 15.11529411764706, 32.98117647058824, 2.028235294117647, 27.141176470588235, 14.505882352941176, 8.56235294117647, 22.142352941176473, 11.47764705882353, 12.207058823529412, 8.212941176470588, 30.356470588235297, 6.510588235294118, 16.209411764705884, 15.1, 12.138823529411765, 16.19764705882353, 13.544705882352941, 5.548235294117647, 10.122352941176471, 16.543529411764705, 7.351764705882354, 2.6470588235294117, 6.970588235294117, 12.645882352941175, 5.718823529411765, 15.877647058823529, 8.109411764705882, 6.4941176470588236, 19.069411764705883, 10.877647058823529, 11.849411764705883, 7.865882352941177, 5.583529411764705, 9.416470588235294, 19.501176470588234, 7.330588235294118, 6.4, 5.012941176470588, 24.657647058823528, 8.012941176470587, 19.337647058823528, 5.1505882352941175, 30.972941176470584, 12.454117647058824, 19.718823529411765], \"xaxis\": \"x\", \"y\": [0.7666666666666667, 0.4, 0.26666666666666666, 0.4, 0.5, 0.6666666666666667, 0.4, 0.30000000000000004, 0.26666666666666666, 0.33333333333333337, 0.5666666666666667, 0.3666666666666667, 0.6666666666666667, 0.26666666666666666, 0.4, 0.7666666666666667, 0.4, 0.3666666666666667, 0.3666666666666667, 0.16666666666666669, 0.23333333333333334, 0.2, 0.26666666666666666, 0.4, 0.5, 0.6333333333333334, 0.5333333333333333, 0.5333333333333333, 0.5666666666666667, 0.5, 0.6333333333333334, 0.5, 0.5, 0.8, 0.6000000000000001, 0.5333333333333333, 0.6333333333333334, 0.6000000000000001, 0.5, 0.7333333333333334, 0.6000000000000001, 0.7333333333333334, 0.26666666666666666, 0.7, 0.4, 0.5666666666666667, 0.4, 0.6000000000000001, 0.30000000000000004, 1.0333333333333334, 0.5, 0.5, 0.5666666666666667, 0.3666666666666667, 0.26666666666666666, 0.23333333333333334, 0.5333333333333333, 0.30000000000000004, 0.4, 0.4, 0.23333333333333334, 0.43333333333333335, 0.5, 0.43333333333333335, 0.5333333333333333, 0.6000000000000001, 0.6000000000000001, 0.5666666666666667, 0.5666666666666667, 0.6333333333333334, 0.43333333333333335, 0.26666666666666666, 0.4, 0.4, 0.5, 0.5, 0.4666666666666667, 0.5333333333333333, 0.4, 0.5666666666666667, 0.5666666666666667, 0.23333333333333334, 1.4, 0.4, 0.5, 0.7666666666666667, 0.30000000000000004, 0.5666666666666667, 0.4, 0.5333333333333333, 0.6000000000000001, 0.33333333333333337, 0.5333333333333333, 0.5666666666666667, 1.3666666666666667, 0.5666666666666667, 0.5, 0.5666666666666667, 0.30000000000000004, 0.5333333333333333, 0.5333333333333333, 0.4, 0.26666666666666666, 0.5666666666666667, 0.5, 0.4666666666666667, 0.23333333333333334, 0.7333333333333334, 0.8, 0.5666666666666667, 0.26666666666666666, 0.4666666666666667, 0.6333333333333334, 0.5666666666666667, 0.5, 0.23333333333333334, 0.5333333333333333, 0.4666666666666667, 0.5333333333333333, 0.6666666666666667, 0.3666666666666667, 0.5666666666666667, 0.6333333333333334, 0.5, 0.6333333333333334, 0.5333333333333333, 0.4666666666666667, 0.5, 0.5, 0.5333333333333333, 0.5, 0.7333333333333334, 0.43333333333333335, 0.5333333333333333, 0.5, 0.6333333333333334, 0.4, 0.5, 0.5333333333333333, 0.6333333333333334, 0.4666666666666667, 0.6000000000000001, 0.4666666666666667, 0.7, 0.4666666666666667, 0.6666666666666667, 0.5333333333333333, 0.5666666666666667, 0.5666666666666667, 0.4666666666666667, 0.7, 0.5333333333333333, 0.4666666666666667, 0.8, 0.5333333333333333, 0.30000000000000004, 0.5666666666666667, 0.4666666666666667, 0.6000000000000001, 0.6333333333333334, 0.6000000000000001, 0.7, 0.4666666666666667, 0.6000000000000001, 0.5333333333333333, 0.43333333333333335, 0.5333333333333333, 0.6000000000000001, 0.5333333333333333, 0.5666666666666667, 0.6000000000000001, 0.5, 0.5, 0.5, 0.43333333333333335, 0.9333333333333333, 0.5, 0.5, 0.43333333333333335], \"yaxis\": \"y\"}, {\"hoverlabel\": {\"namelength\": 0}, \"hovertemplate\": \"Cell Type=Inhibitory<br>Mean Firing Rate=%{x}<br>Trough to peak=%{y}\", \"legendgroup\": \"Cell Type=Inhibitory\", \"marker\": {\"color\": \"#00cc96\", \"symbol\": \"circle\"}, \"mode\": \"markers\", \"name\": \"Cell Type=Inhibitory\", \"showlegend\": true, \"type\": \"scatter\", \"x\": [12.064705882352941, 11.051764705882352, 9.721176470588235, 17.163529411764706, 20.703529411764706, 19.294117647058822, 8.378823529411765, 11.089411764705883, 5.576470588235294, 49.442352941176466, 5.11764705882353, 41.15529411764705, 29.00235294117647, 6.64235294117647, 13.352941176470587, 19.76470588235294, 8.428235294117647, 5.476470588235294, 11.295294117647058, 12.22, 29.158823529411766, 17.383529411764705, 53.974117647058826, 20.814117647058826, 18.04823529411765, 55.36705882352941, 14.604705882352942, 7.483529411764706, 25.19058823529412, 9.202352941176471, 5.336470588235294, 21.090588235294117], \"xaxis\": \"x\", \"y\": [0.16666666666666669, 0.30000000000000004, 0.16666666666666669, 0.16666666666666669, 0.33333333333333337, 0.2, 0.33333333333333337, 0.26666666666666666, 0.33333333333333337, 0.26666666666666666, 0.3666666666666667, 0.30000000000000004, 0.3666666666666667, 0.26666666666666666, 0.16666666666666669, 0.23333333333333334, 0.30000000000000004, 0.3666666666666667, 0.33333333333333337, 0.26666666666666666, 0.33333333333333337, 0.23333333333333334, 0.26666666666666666, 0.33333333333333337, 0.30000000000000004, 0.23333333333333334, 0.30000000000000004, 0.3666666666666667, 0.33333333333333337, 0.2, 0.26666666666666666, 0.33333333333333337], \"yaxis\": \"y\"}],\n",
              "                        {\"legend\": {\"tracegroupgap\": 0}, \"margin\": {\"t\": 60}, \"template\": {\"data\": {\"bar\": [{\"error_x\": {\"color\": \"#2a3f5f\"}, \"error_y\": {\"color\": \"#2a3f5f\"}, \"marker\": {\"line\": {\"color\": \"#E5ECF6\", \"width\": 0.5}}, \"type\": \"bar\"}], \"barpolar\": [{\"marker\": {\"line\": {\"color\": \"#E5ECF6\", \"width\": 0.5}}, \"type\": \"barpolar\"}], \"carpet\": [{\"aaxis\": {\"endlinecolor\": \"#2a3f5f\", \"gridcolor\": \"white\", \"linecolor\": \"white\", \"minorgridcolor\": \"white\", \"startlinecolor\": \"#2a3f5f\"}, \"baxis\": {\"endlinecolor\": \"#2a3f5f\", \"gridcolor\": \"white\", \"linecolor\": \"white\", \"minorgridcolor\": \"white\", \"startlinecolor\": \"#2a3f5f\"}, \"type\": \"carpet\"}], \"choropleth\": [{\"colorbar\": {\"outlinewidth\": 0, \"ticks\": \"\"}, \"type\": \"choropleth\"}], \"contour\": [{\"colorbar\": {\"outlinewidth\": 0, \"ticks\": \"\"}, \"colorscale\": [[0.0, \"#0d0887\"], [0.1111111111111111, \"#46039f\"], [0.2222222222222222, \"#7201a8\"], [0.3333333333333333, \"#9c179e\"], [0.4444444444444444, \"#bd3786\"], [0.5555555555555556, \"#d8576b\"], [0.6666666666666666, \"#ed7953\"], [0.7777777777777778, \"#fb9f3a\"], [0.8888888888888888, \"#fdca26\"], [1.0, \"#f0f921\"]], \"type\": \"contour\"}], \"contourcarpet\": [{\"colorbar\": {\"outlinewidth\": 0, \"ticks\": \"\"}, \"type\": \"contourcarpet\"}], \"heatmap\": [{\"colorbar\": {\"outlinewidth\": 0, \"ticks\": \"\"}, \"colorscale\": [[0.0, \"#0d0887\"], [0.1111111111111111, \"#46039f\"], [0.2222222222222222, \"#7201a8\"], [0.3333333333333333, \"#9c179e\"], [0.4444444444444444, \"#bd3786\"], [0.5555555555555556, \"#d8576b\"], [0.6666666666666666, \"#ed7953\"], [0.7777777777777778, \"#fb9f3a\"], [0.8888888888888888, \"#fdca26\"], [1.0, \"#f0f921\"]], \"type\": \"heatmap\"}], \"heatmapgl\": [{\"colorbar\": {\"outlinewidth\": 0, \"ticks\": \"\"}, \"colorscale\": [[0.0, \"#0d0887\"], [0.1111111111111111, \"#46039f\"], [0.2222222222222222, \"#7201a8\"], [0.3333333333333333, \"#9c179e\"], [0.4444444444444444, \"#bd3786\"], [0.5555555555555556, \"#d8576b\"], [0.6666666666666666, \"#ed7953\"], [0.7777777777777778, \"#fb9f3a\"], [0.8888888888888888, \"#fdca26\"], [1.0, \"#f0f921\"]], \"type\": \"heatmapgl\"}], \"histogram\": [{\"marker\": {\"colorbar\": {\"outlinewidth\": 0, \"ticks\": \"\"}}, \"type\": \"histogram\"}], \"histogram2d\": [{\"colorbar\": {\"outlinewidth\": 0, \"ticks\": \"\"}, \"colorscale\": [[0.0, \"#0d0887\"], [0.1111111111111111, \"#46039f\"], [0.2222222222222222, \"#7201a8\"], [0.3333333333333333, \"#9c179e\"], [0.4444444444444444, \"#bd3786\"], [0.5555555555555556, \"#d8576b\"], [0.6666666666666666, \"#ed7953\"], [0.7777777777777778, \"#fb9f3a\"], [0.8888888888888888, \"#fdca26\"], [1.0, \"#f0f921\"]], \"type\": \"histogram2d\"}], \"histogram2dcontour\": [{\"colorbar\": {\"outlinewidth\": 0, \"ticks\": \"\"}, \"colorscale\": [[0.0, \"#0d0887\"], [0.1111111111111111, \"#46039f\"], [0.2222222222222222, \"#7201a8\"], [0.3333333333333333, \"#9c179e\"], [0.4444444444444444, \"#bd3786\"], [0.5555555555555556, \"#d8576b\"], [0.6666666666666666, \"#ed7953\"], [0.7777777777777778, \"#fb9f3a\"], [0.8888888888888888, \"#fdca26\"], [1.0, \"#f0f921\"]], \"type\": \"histogram2dcontour\"}], \"mesh3d\": [{\"colorbar\": {\"outlinewidth\": 0, \"ticks\": \"\"}, \"type\": \"mesh3d\"}], \"parcoords\": [{\"line\": {\"colorbar\": {\"outlinewidth\": 0, \"ticks\": \"\"}}, \"type\": \"parcoords\"}], \"pie\": [{\"automargin\": true, \"type\": \"pie\"}], \"scatter\": [{\"marker\": {\"colorbar\": {\"outlinewidth\": 0, \"ticks\": \"\"}}, \"type\": \"scatter\"}], \"scatter3d\": [{\"line\": {\"colorbar\": {\"outlinewidth\": 0, \"ticks\": \"\"}}, \"marker\": {\"colorbar\": {\"outlinewidth\": 0, \"ticks\": \"\"}}, \"type\": \"scatter3d\"}], \"scattercarpet\": [{\"marker\": {\"colorbar\": {\"outlinewidth\": 0, \"ticks\": \"\"}}, \"type\": \"scattercarpet\"}], \"scattergeo\": [{\"marker\": {\"colorbar\": {\"outlinewidth\": 0, \"ticks\": \"\"}}, \"type\": \"scattergeo\"}], \"scattergl\": [{\"marker\": {\"colorbar\": {\"outlinewidth\": 0, \"ticks\": \"\"}}, \"type\": \"scattergl\"}], \"scattermapbox\": [{\"marker\": {\"colorbar\": {\"outlinewidth\": 0, \"ticks\": \"\"}}, \"type\": \"scattermapbox\"}], \"scatterpolar\": [{\"marker\": {\"colorbar\": {\"outlinewidth\": 0, \"ticks\": \"\"}}, \"type\": \"scatterpolar\"}], \"scatterpolargl\": [{\"marker\": {\"colorbar\": {\"outlinewidth\": 0, \"ticks\": \"\"}}, \"type\": \"scatterpolargl\"}], \"scatterternary\": [{\"marker\": {\"colorbar\": {\"outlinewidth\": 0, \"ticks\": \"\"}}, \"type\": \"scatterternary\"}], \"surface\": [{\"colorbar\": {\"outlinewidth\": 0, \"ticks\": \"\"}, \"colorscale\": [[0.0, \"#0d0887\"], [0.1111111111111111, \"#46039f\"], [0.2222222222222222, \"#7201a8\"], [0.3333333333333333, \"#9c179e\"], [0.4444444444444444, \"#bd3786\"], [0.5555555555555556, \"#d8576b\"], [0.6666666666666666, \"#ed7953\"], [0.7777777777777778, \"#fb9f3a\"], [0.8888888888888888, \"#fdca26\"], [1.0, \"#f0f921\"]], \"type\": \"surface\"}], \"table\": [{\"cells\": {\"fill\": {\"color\": \"#EBF0F8\"}, \"line\": {\"color\": \"white\"}}, \"header\": {\"fill\": {\"color\": \"#C8D4E3\"}, \"line\": {\"color\": \"white\"}}, \"type\": \"table\"}]}, \"layout\": {\"annotationdefaults\": {\"arrowcolor\": \"#2a3f5f\", \"arrowhead\": 0, \"arrowwidth\": 1}, \"coloraxis\": {\"colorbar\": {\"outlinewidth\": 0, \"ticks\": \"\"}}, \"colorscale\": {\"diverging\": [[0, \"#8e0152\"], [0.1, \"#c51b7d\"], [0.2, \"#de77ae\"], [0.3, \"#f1b6da\"], [0.4, \"#fde0ef\"], [0.5, \"#f7f7f7\"], [0.6, \"#e6f5d0\"], [0.7, \"#b8e186\"], [0.8, \"#7fbc41\"], [0.9, \"#4d9221\"], [1, \"#276419\"]], \"sequential\": [[0.0, \"#0d0887\"], [0.1111111111111111, \"#46039f\"], [0.2222222222222222, \"#7201a8\"], [0.3333333333333333, \"#9c179e\"], [0.4444444444444444, \"#bd3786\"], [0.5555555555555556, \"#d8576b\"], [0.6666666666666666, \"#ed7953\"], [0.7777777777777778, \"#fb9f3a\"], [0.8888888888888888, \"#fdca26\"], [1.0, \"#f0f921\"]], \"sequentialminus\": [[0.0, \"#0d0887\"], [0.1111111111111111, \"#46039f\"], [0.2222222222222222, \"#7201a8\"], [0.3333333333333333, \"#9c179e\"], [0.4444444444444444, \"#bd3786\"], [0.5555555555555556, \"#d8576b\"], [0.6666666666666666, \"#ed7953\"], [0.7777777777777778, \"#fb9f3a\"], [0.8888888888888888, \"#fdca26\"], [1.0, \"#f0f921\"]]}, \"colorway\": [\"#636efa\", \"#EF553B\", \"#00cc96\", \"#ab63fa\", \"#FFA15A\", \"#19d3f3\", \"#FF6692\", \"#B6E880\", \"#FF97FF\", \"#FECB52\"], \"font\": {\"color\": \"#2a3f5f\"}, \"geo\": {\"bgcolor\": \"white\", \"lakecolor\": \"white\", \"landcolor\": \"#E5ECF6\", \"showlakes\": true, \"showland\": true, \"subunitcolor\": \"white\"}, \"hoverlabel\": {\"align\": \"left\"}, \"hovermode\": \"closest\", \"mapbox\": {\"style\": \"light\"}, \"paper_bgcolor\": \"white\", \"plot_bgcolor\": \"#E5ECF6\", \"polar\": {\"angularaxis\": {\"gridcolor\": \"white\", \"linecolor\": \"white\", \"ticks\": \"\"}, \"bgcolor\": \"#E5ECF6\", \"radialaxis\": {\"gridcolor\": \"white\", \"linecolor\": \"white\", \"ticks\": \"\"}}, \"scene\": {\"xaxis\": {\"backgroundcolor\": \"#E5ECF6\", \"gridcolor\": \"white\", \"gridwidth\": 2, \"linecolor\": \"white\", \"showbackground\": true, \"ticks\": \"\", \"zerolinecolor\": \"white\"}, \"yaxis\": {\"backgroundcolor\": \"#E5ECF6\", \"gridcolor\": \"white\", \"gridwidth\": 2, \"linecolor\": \"white\", \"showbackground\": true, \"ticks\": \"\", \"zerolinecolor\": \"white\"}, \"zaxis\": {\"backgroundcolor\": \"#E5ECF6\", \"gridcolor\": \"white\", \"gridwidth\": 2, \"linecolor\": \"white\", \"showbackground\": true, \"ticks\": \"\", \"zerolinecolor\": \"white\"}}, \"shapedefaults\": {\"line\": {\"color\": \"#2a3f5f\"}}, \"ternary\": {\"aaxis\": {\"gridcolor\": \"white\", \"linecolor\": \"white\", \"ticks\": \"\"}, \"baxis\": {\"gridcolor\": \"white\", \"linecolor\": \"white\", \"ticks\": \"\"}, \"bgcolor\": \"#E5ECF6\", \"caxis\": {\"gridcolor\": \"white\", \"linecolor\": \"white\", \"ticks\": \"\"}}, \"title\": {\"x\": 0.05}, \"xaxis\": {\"automargin\": true, \"gridcolor\": \"white\", \"linecolor\": \"white\", \"ticks\": \"\", \"title\": {\"standoff\": 15}, \"zerolinecolor\": \"white\", \"zerolinewidth\": 2}, \"yaxis\": {\"automargin\": true, \"gridcolor\": \"white\", \"linecolor\": \"white\", \"ticks\": \"\", \"title\": {\"standoff\": 15}, \"zerolinecolor\": \"white\", \"zerolinewidth\": 2}}}, \"xaxis\": {\"anchor\": \"y\", \"domain\": [0.0, 1.0], \"title\": {\"text\": \"Mean Firing Rate\"}}, \"yaxis\": {\"anchor\": \"x\", \"domain\": [0.0, 1.0], \"title\": {\"text\": \"Trough to peak\"}}},\n",
              "                        {\"responsive\": true}\n",
              "                    ).then(function(){\n",
              "                            \n",
              "var gd = document.getElementById('b58eea1a-f83b-4f16-addc-f8a15ca9447c');\n",
              "var x = new MutationObserver(function (mutations, observer) {{\n",
              "        var display = window.getComputedStyle(gd).display;\n",
              "        if (!display || display === 'none') {{\n",
              "            console.log([gd, 'removed!']);\n",
              "            Plotly.purge(gd);\n",
              "            observer.disconnect();\n",
              "        }}\n",
              "}});\n",
              "\n",
              "// Listen for the removal of the full notebook cells\n",
              "var notebookContainer = gd.closest('#notebook-container');\n",
              "if (notebookContainer) {{\n",
              "    x.observe(notebookContainer, {childList: true});\n",
              "}}\n",
              "\n",
              "// Listen for the clearing of the current output cell\n",
              "var outputEl = gd.closest('.output');\n",
              "if (outputEl) {{\n",
              "    x.observe(outputEl, {childList: true});\n",
              "}}\n",
              "\n",
              "                        })\n",
              "                };\n",
              "                \n",
              "            </script>\n",
              "        </div>\n",
              "</body>\n",
              "</html>"
            ]
          },
          "metadata": {
            "tags": []
          }
        }
      ]
    },
    {
      "cell_type": "code",
      "metadata": {
        "id": "EhSWBpAS6xw6",
        "colab_type": "code",
        "colab": {}
      },
      "source": [
        "labeling_df['Area']"
      ],
      "execution_count": null,
      "outputs": []
    }
  ]
}